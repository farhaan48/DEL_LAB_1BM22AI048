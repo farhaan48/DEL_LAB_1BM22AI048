{
  "nbformat": 4,
  "nbformat_minor": 0,
  "metadata": {
    "colab": {
      "provenance": []
    },
    "kernelspec": {
      "name": "python3",
      "display_name": "Python 3"
    },
    "language_info": {
      "name": "python"
    }
  },
  "cells": [
    {
      "cell_type": "code",
      "execution_count": 2,
      "metadata": {
        "colab": {
          "base_uri": "https://localhost:8080/"
        },
        "id": "NqQyDBvI91NL",
        "outputId": "dd64fc09-10d6-49f1-ec6d-3c05c45db214"
      },
      "outputs": [
        {
          "output_type": "stream",
          "name": "stdout",
          "text": [
            "First few rows of X: [[2.5e+01 2.0e+02 3.0e+00 5.0e+03]\n",
            " [3.0e+01 4.0e+02 5.0e+00 6.0e+03]\n",
            " [3.5e+01 1.5e+02 2.0e+00 3.0e+03]\n",
            " [4.0e+01 3.0e+02 4.0e+00 7.0e+03]\n",
            " [4.5e+01 1.0e+02 1.0e+00 2.0e+03]]\n",
            "First few entries of y: [1. 1. 0. 1. 0.]\n",
            "Weights: [-5.45e+01 -5.00e+01 -1.00e-01 -1.00e+02]\n",
            "Bias: -1.0999999999999999\n",
            "Predictions: [0 0 0 0 0]\n"
          ]
        }
      ],
      "source": [
        "import numpy as np\n",
        "\n",
        "def perceptron(X, y, learning_rate=0.1, n_iterations=10):\n",
        "    n_samples, n_features = X.shape\n",
        "    weights = np.zeros(n_features)\n",
        "    bias = 0\n",
        "\n",
        "    for _ in range(n_iterations):\n",
        "        for idx, x_i in enumerate(X):\n",
        "            linear_output = np.dot(x_i, weights) + bias\n",
        "            y_predicted = 1 if linear_output >= 0 else 0\n",
        "            update = learning_rate * (y[idx] - y_predicted)\n",
        "            weights += update * x_i\n",
        "            bias += update\n",
        "    return weights, bias\n",
        "\n",
        "def predict(X, weights, bias):\n",
        "    linear_output = np.dot(X, weights) + bias\n",
        "    return np.where(linear_output >= 0, 1, 0)\n",
        "\n",
        "if __name__ == \"__main__\":\n",
        "    # Create synthetic data\n",
        "    X = np.array([\n",
        "        [25, 200, 3, 5000],\n",
        "        [30, 400, 5, 6000],\n",
        "        [35, 150, 2, 3000],\n",
        "        [40, 300, 4, 7000],\n",
        "        [45, 100, 1, 2000],\n",
        "    ], dtype=np.float64)\n",
        "    y = np.array([1, 1, 0, 1, 0], dtype=np.float64)  # Example target labels\n",
        "\n",
        "    print(\"First few rows of X:\", X[:5])\n",
        "    print(\"First few entries of y:\", y[:5])\n",
        "\n",
        "    # Train the perceptron model\n",
        "    weights, bias = perceptron(X, y, learning_rate=0.1, n_iterations=10)\n",
        "    predictions = predict(X, weights, bias)\n",
        "\n",
        "    print(\"Weights:\", weights)\n",
        "    print(\"Bias:\", bias)\n",
        "    print(\"Predictions:\", predictions)\n"
      ]
    }
  ]
}